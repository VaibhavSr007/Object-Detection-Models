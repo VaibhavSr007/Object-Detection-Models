{
 "cells": [
  {
   "cell_type": "markdown",
   "metadata": {},
   "source": [
    "# 1. Import Dependencies"
   ]
  },
  {
   "cell_type": "code",
   "execution_count": 1,
   "metadata": {},
   "outputs": [
    {
     "name": "stdout",
     "output_type": "stream",
     "text": [
      "Collecting opencv-python\n",
      "  Using cached opencv_python-4.6.0.66-cp36-abi3-win_amd64.whl (35.6 MB)\n",
      "Collecting numpy>=1.14.5\n",
      "  Using cached numpy-1.21.6-cp37-cp37m-win_amd64.whl (14.0 MB)\n",
      "Installing collected packages: numpy, opencv-python\n",
      "Successfully installed numpy-1.21.6 opencv-python-4.6.0.66\n"
     ]
    }
   ],
   "source": [
    "!pip install opencv-python"
   ]
  },
  {
   "cell_type": "code",
   "execution_count": 2,
   "metadata": {},
   "outputs": [],
   "source": [
    "# Import opencv\n",
    "import cv2 \n",
    "\n",
    "# Import uuid\n",
    "import uuid\n",
    "\n",
    "# Import Operating System\n",
    "import os\n",
    "\n",
    "# Import time\n",
    "import time"
   ]
  },
  {
   "cell_type": "markdown",
   "metadata": {},
   "source": [
    "# 2. Define Images to Collect"
   ]
  },
  {
   "cell_type": "code",
   "execution_count": 11,
   "metadata": {},
   "outputs": [],
   "source": [
    "labels = ['thankyou','livelong','thumbsup','thumbsdown']\n",
    "number_imgs = 15"
   ]
  },
  {
   "cell_type": "markdown",
   "metadata": {},
   "source": [
    "# 3. Setup Folders "
   ]
  },
  {
   "cell_type": "code",
   "execution_count": 12,
   "metadata": {},
   "outputs": [],
   "source": [
    "IMAGES_PATH = os.path.join('Tensorflow', 'workspace', 'images', 'collectedimages')"
   ]
  },
  {
   "cell_type": "code",
   "execution_count": 13,
   "metadata": {},
   "outputs": [],
   "source": [
    "if not os.path.exists(IMAGES_PATH):\n",
    "    if os.name == 'nt':\n",
    "         !mkdir {IMAGES_PATH}\n",
    "for label in labels:\n",
    "    path = os.path.join(IMAGES_PATH, label)\n",
    "    if not os.path.exists(path):\n",
    "        !mkdir {path}"
   ]
  },
  {
   "cell_type": "markdown",
   "metadata": {},
   "source": [
    "# 4. Capture Images"
   ]
  },
  {
   "cell_type": "code",
   "execution_count": 14,
   "metadata": {},
   "outputs": [
    {
     "name": "stdout",
     "output_type": "stream",
     "text": [
      "Collecting images for thankyou\n",
      "Collecting image 0\n",
      "Collecting image 1\n",
      "Collecting image 2\n",
      "Collecting image 3\n",
      "Collecting image 4\n",
      "Collecting image 5\n",
      "Collecting image 6\n",
      "Collecting image 7\n",
      "Collecting image 8\n",
      "Collecting image 9\n",
      "Collecting image 10\n",
      "Collecting image 11\n",
      "Collecting image 12\n",
      "Collecting image 13\n",
      "Collecting image 14\n"
     ]
    }
   ],
   "source": [
    "for label in labels:\n",
    "    cap = cv2.VideoCapture(1)\n",
    "    print('Collecting images for {}'.format(label))\n",
    "    time.sleep(5)\n",
    "    for imgnum in range(number_imgs):\n",
    "        print('Collecting image {}'.format(imgnum))\n",
    "        ret, frame = cap.read()\n",
    "        imgname = os.path.join(IMAGES_PATH,label,label+'.'+'{}.jpg'.format(str(uuid.uuid1())))\n",
    "        cv2.imwrite(imgname, frame)\n",
    "        cv2.imshow('frame', frame)\n",
    "        time.sleep(2)\n",
    "\n",
    "        if cv2.waitKey(1) & 0xFF == ord('q'):\n",
    "            break\n",
    "cap.release()\n",
    "cv2.destroyAllWindows()"
   ]
  },
  {
   "cell_type": "markdown",
   "metadata": {},
   "source": [
    "# 5. Image Labelling"
   ]
  },
  {
   "cell_type": "code",
   "execution_count": 15,
   "metadata": {},
   "outputs": [
    {
     "name": "stdout",
     "output_type": "stream",
     "text": [
      "Collecting pyqt5\n",
      "  Using cached PyQt5-5.15.7-cp37-abi3-win_amd64.whl (6.8 MB)\n",
      "Collecting lxml\n",
      "  Using cached lxml-4.9.1-cp37-cp37m-win_amd64.whl (3.6 MB)\n",
      "Collecting PyQt5-Qt5>=5.15.0\n",
      "  Using cached PyQt5_Qt5-5.15.2-py3-none-win_amd64.whl (50.1 MB)\n",
      "Collecting PyQt5-sip<13,>=12.11\n",
      "  Using cached PyQt5_sip-12.11.0-cp37-cp37m-win_amd64.whl (77 kB)\n",
      "Installing collected packages: PyQt5-Qt5, PyQt5-sip, lxml, pyqt5\n",
      "Successfully installed PyQt5-Qt5-5.15.2 PyQt5-sip-12.11.0 lxml-4.9.1 pyqt5-5.15.7\n"
     ]
    },
    {
     "name": "stderr",
     "output_type": "stream",
     "text": [
      "WARNING: Retrying (Retry(total=4, connect=None, read=None, redirect=None, status=None)) after connection broken by 'NewConnectionError('<pip._vendor.urllib3.connection.HTTPSConnection object at 0x00000250283806D8>: Failed to establish a new connection: [Errno 11001] getaddrinfo failed')': /simple/pyqt5/\n"
     ]
    }
   ],
   "source": [
    "!pip install --upgrade pyqt5 lxml"
   ]
  },
  {
   "cell_type": "code",
   "execution_count": 16,
   "metadata": {},
   "outputs": [],
   "source": [
    "LABELIMG_PATH = os.path.join('Tensorflow', 'labelimg')"
   ]
  },
  {
   "cell_type": "code",
   "execution_count": 12,
   "metadata": {},
   "outputs": [
    {
     "name": "stderr",
     "output_type": "stream",
     "text": [
      "Cloning into 'Tensorflow\\labelimg'...\n"
     ]
    }
   ],
   "source": [
    "# cloned https://github.com/tzutalin/labelImg into Tensorflow/labelimg using github desktop"
   ]
  },
  {
   "cell_type": "code",
   "execution_count": 17,
   "metadata": {},
   "outputs": [],
   "source": [
    "if os.name =='nt':\n",
    "    !cd {LABELIMG_PATH} && pyrcc5 -o libs/resources.py resources.qrc"
   ]
  },
  {
   "cell_type": "code",
   "execution_count": 18,
   "metadata": {},
   "outputs": [
    {
     "name": "stdout",
     "output_type": "stream",
     "text": [
      "Image:E:\\tfod main\\Tensorflow\\workspace\\images\\collectedimages\\livelong\\livelong.0f74be52-08ec-11ed-920b-709cd1102119.jpg -> Annotation:E:/tfod main/Tensorflow/workspace/images/collectedimages/livelong\\livelong.0f74be52-08ec-11ed-920b-709cd1102119.xml\n",
      "Image:E:\\tfod main\\Tensorflow\\workspace\\images\\collectedimages\\livelong\\livelong.1a59a2e4-08ec-11ed-9df4-709cd1102119.jpg -> Annotation:E:/tfod main/Tensorflow/workspace/images/collectedimages/livelong\\livelong.1a59a2e4-08ec-11ed-9df4-709cd1102119.xml\n",
      "Image:E:\\tfod main\\Tensorflow\\workspace\\images\\collectedimages\\livelong\\livelong.10a9c138-08ec-11ed-9ac0-709cd1102119.jpg -> Annotation:E:/tfod main/Tensorflow/workspace/images/collectedimages/livelong\\livelong.10a9c138-08ec-11ed-9ac0-709cd1102119.xml\n",
      "Image:E:\\tfod main\\Tensorflow\\workspace\\images\\collectedimages\\livelong\\livelong.17ee9a10-08ec-11ed-be52-709cd1102119.jpg -> Annotation:E:/tfod main/Tensorflow/workspace/images/collectedimages/livelong\\livelong.17ee9a10-08ec-11ed-be52-709cd1102119.xml\n",
      "Image:E:\\tfod main\\Tensorflow\\workspace\\images\\collectedimages\\livelong\\livelong.131aaf10-08ec-11ed-882e-709cd1102119.jpg -> Annotation:E:/tfod main/Tensorflow/workspace/images/collectedimages/livelong\\livelong.131aaf10-08ec-11ed-882e-709cd1102119.xml\n",
      "Image:E:\\tfod main\\Tensorflow\\workspace\\images\\collectedimages\\livelong\\livelong.14501c2e-08ec-11ed-9c17-709cd1102119.jpg -> Annotation:E:/tfod main/Tensorflow/workspace/images/collectedimages/livelong\\livelong.14501c2e-08ec-11ed-9c17-709cd1102119.xml\n",
      "Image:E:\\tfod main\\Tensorflow\\workspace\\images\\collectedimages\\livelong\\livelong.1584474c-08ec-11ed-8f49-709cd1102119.jpg -> Annotation:E:/tfod main/Tensorflow/workspace/images/collectedimages/livelong\\livelong.1584474c-08ec-11ed-8f49-709cd1102119.xml\n",
      "Image:E:\\tfod main\\Tensorflow\\workspace\\images\\collectedimages\\livelong\\livelong.1924545c-08ec-11ed-a1e9-709cd1102119.jpg -> Annotation:E:/tfod main/Tensorflow/workspace/images/collectedimages/livelong\\livelong.1924545c-08ec-11ed-a1e9-709cd1102119.xml\n",
      "Image:E:\\tfod main\\Tensorflow\\workspace\\images\\collectedimages\\livelong\\livelong.ea1ad05e-08ea-11ed-8ce7-709cd1102119.jpg -> Annotation:E:/tfod main/Tensorflow/workspace/images/collectedimages/livelong\\livelong.ea1ad05e-08ea-11ed-8ce7-709cd1102119.xml\n",
      "Image:E:\\tfod main\\Tensorflow\\workspace\\images\\collectedimages\\livelong\\livelong.eb4f22f6-08ea-11ed-be66-709cd1102119.jpg -> Annotation:E:/tfod main/Tensorflow/workspace/images/collectedimages/livelong\\livelong.eb4f22f6-08ea-11ed-be66-709cd1102119.xml\n",
      "Image:E:\\tfod main\\Tensorflow\\workspace\\images\\collectedimages\\livelong\\livelong.ec82e69c-08ea-11ed-ab20-709cd1102119.jpg -> Annotation:E:/tfod main/Tensorflow/workspace/images/collectedimages/livelong\\livelong.ec82e69c-08ea-11ed-ab20-709cd1102119.xml\n",
      "Image:E:\\tfod main\\Tensorflow\\workspace\\images\\collectedimages\\livelong\\livelong.edb780b4-08ea-11ed-88cc-709cd1102119.jpg -> Annotation:E:/tfod main/Tensorflow/workspace/images/collectedimages/livelong\\livelong.edb780b4-08ea-11ed-88cc-709cd1102119.xml\n",
      "Image:E:\\tfod main\\Tensorflow\\workspace\\images\\collectedimages\\livelong\\livelong.f3c00626-08ea-11ed-b947-709cd1102119.jpg -> Annotation:E:/tfod main/Tensorflow/workspace/images/collectedimages/livelong\\livelong.f3c00626-08ea-11ed-b947-709cd1102119.xml\n",
      "Image:E:\\tfod main\\Tensorflow\\workspace\\images\\collectedimages\\livelong\\livelong.f28b077e-08ea-11ed-9982-709cd1102119.jpg -> Annotation:E:/tfod main/Tensorflow/workspace/images/collectedimages/livelong\\livelong.f28b077e-08ea-11ed-9982-709cd1102119.xml\n",
      "Image:E:\\tfod main\\Tensorflow\\workspace\\images\\collectedimages\\livelong\\livelong.f62916f0-08ea-11ed-9ca9-709cd1102119.jpg -> Annotation:E:/tfod main/Tensorflow/workspace/images/collectedimages/livelong\\livelong.f62916f0-08ea-11ed-9ca9-709cd1102119.xml\n",
      "Image:E:\\tfod main\\Tensorflow\\workspace\\images\\collectedimages\\thankyou\\thankyou.02c102ee-08ec-11ed-8658-709cd1102119.jpg -> Annotation:E:/tfod main/Tensorflow/workspace/images/collectedimages/thankyou\\thankyou.02c102ee-08ec-11ed-8658-709cd1102119.xml\n",
      "Image:E:\\tfod main\\Tensorflow\\workspace\\images\\collectedimages\\thankyou\\thankyou.b48bbc66-08ed-11ed-a0f5-709cd1102119.jpg -> Annotation:E:/tfod main/Tensorflow/workspace/images/collectedimages/thankyou\\thankyou.b48bbc66-08ed-11ed-a0f5-709cd1102119.xml\n",
      "Image:E:\\tfod main\\Tensorflow\\workspace\\images\\collectedimages\\thankyou\\thankyou.b357ee3a-08ed-11ed-9356-709cd1102119.jpg -> Annotation:E:/tfod main/Tensorflow/workspace/images/collectedimages/thankyou\\thankyou.b357ee3a-08ed-11ed-9356-709cd1102119.xml\n",
      "Image:E:\\tfod main\\Tensorflow\\workspace\\images\\collectedimages\\thankyou\\thankyou.b827e510-08ed-11ed-bc11-709cd1102119.jpg -> Annotation:E:/tfod main/Tensorflow/workspace/images/collectedimages/thankyou\\thankyou.b827e510-08ed-11ed-bc11-709cd1102119.xml\n",
      "Image:E:\\tfod main\\Tensorflow\\workspace\\images\\collectedimages\\thankyou\\thankyou.b22253fe-08ed-11ed-9f5d-709cd1102119.jpg -> Annotation:E:/tfod main/Tensorflow/workspace/images/collectedimages/thankyou\\thankyou.b22253fe-08ed-11ed-9f5d-709cd1102119.xml\n",
      "Cancel creation.\n",
      "Image:E:\\tfod main\\Tensorflow\\workspace\\images\\collectedimages\\thankyou\\thankyou.d9c819ae-08ea-11ed-a700-709cd1102119.jpg -> Annotation:E:/tfod main/Tensorflow/workspace/images/collectedimages/thankyou\\thankyou.d9c819ae-08ea-11ed-a700-709cd1102119.xml\n",
      "Image:E:\\tfod main\\Tensorflow\\workspace\\images\\collectedimages\\thankyou\\thankyou.dafcdc08-08ea-11ed-9d89-709cd1102119.jpg -> Annotation:E:/tfod main/Tensorflow/workspace/images/collectedimages/thankyou\\thankyou.dafcdc08-08ea-11ed-9d89-709cd1102119.xml\n",
      "Image:E:\\tfod main\\Tensorflow\\workspace\\images\\collectedimages\\thankyou\\thankyou.de99f1fa-08ea-11ed-a222-709cd1102119.jpg -> Annotation:E:/tfod main/Tensorflow/workspace/images/collectedimages/thankyou\\thankyou.de99f1fa-08ea-11ed-a222-709cd1102119.xml\n",
      "Image:E:\\tfod main\\Tensorflow\\workspace\\images\\collectedimages\\thankyou\\thankyou.dfcedbe8-08ea-11ed-adb0-709cd1102119.jpg -> Annotation:E:/tfod main/Tensorflow/workspace/images/collectedimages/thankyou\\thankyou.dfcedbe8-08ea-11ed-adb0-709cd1102119.xml\n",
      "Image:E:\\tfod main\\Tensorflow\\workspace\\images\\collectedimages\\thankyou\\thankyou.f6b0a45e-08eb-11ed-91b2-709cd1102119.jpg -> Annotation:E:/tfod main/Tensorflow/workspace/images/collectedimages/thankyou\\thankyou.f6b0a45e-08eb-11ed-91b2-709cd1102119.xml\n",
      "Image:E:\\tfod main\\Tensorflow\\workspace\\images\\collectedimages\\thankyou\\thankyou.f57c59a6-08eb-11ed-aab8-709cd1102119.jpg -> Annotation:E:/tfod main/Tensorflow/workspace/images/collectedimages/thankyou\\thankyou.f57c59a6-08eb-11ed-aab8-709cd1102119.xml\n",
      "Image:E:\\tfod main\\Tensorflow\\workspace\\images\\collectedimages\\thankyou\\thankyou.fdec90ae-08eb-11ed-bcd7-709cd1102119.jpg -> Annotation:E:/tfod main/Tensorflow/workspace/images/collectedimages/thankyou\\thankyou.fdec90ae-08eb-11ed-bcd7-709cd1102119.xml\n",
      "Image:E:\\tfod main\\Tensorflow\\workspace\\images\\collectedimages\\thankyou\\thankyou.ae82b3ac-08ed-11ed-afe6-709cd1102119.jpg -> Annotation:E:/tfod main/Tensorflow/workspace/images/collectedimages/thankyou\\thankyou.ae82b3ac-08ed-11ed-afe6-709cd1102119.xml\n",
      "Image:E:\\tfod main\\Tensorflow\\workspace\\images\\collectedimages\\thankyou\\thankyou.b0ed6768-08ed-11ed-ac62-709cd1102119.jpg -> Annotation:E:/tfod main/Tensorflow/workspace/images/collectedimages/thankyou\\thankyou.b0ed6768-08ed-11ed-ac62-709cd1102119.xml\n",
      "Image:E:\\tfod main\\Tensorflow\\workspace\\images\\collectedimages\\thankyou\\thankyou.b5bf938a-08ed-11ed-ab57-709cd1102119.jpg -> Annotation:E:/tfod main/Tensorflow/workspace/images/collectedimages/thankyou\\thankyou.b5bf938a-08ed-11ed-ab57-709cd1102119.xml\n",
      "Image:E:\\tfod main\\Tensorflow\\workspace\\images\\collectedimages\\thumbsdown\\thumbsdown.c5da34f4-08ea-11ed-b73c-709cd1102119.jpg -> Annotation:E:/tfod main/Tensorflow/workspace/images/collectedimages/thumbsdown\\thumbsdown.c5da34f4-08ea-11ed-b73c-709cd1102119.xml\n",
      "Image:E:\\tfod main\\Tensorflow\\workspace\\images\\collectedimages\\thumbsdown\\thumbsdown.c70ef4ec-08ea-11ed-8f4c-709cd1102119.jpg -> Annotation:E:/tfod main/Tensorflow/workspace/images/collectedimages/thumbsdown\\thumbsdown.c70ef4ec-08ea-11ed-8f4c-709cd1102119.xml\n",
      "Image:E:\\tfod main\\Tensorflow\\workspace\\images\\collectedimages\\thumbsdown\\thumbsdown.c97980d4-08ea-11ed-acf9-709cd1102119.jpg -> Annotation:E:/tfod main/Tensorflow/workspace/images/collectedimages/thumbsdown\\thumbsdown.c97980d4-08ea-11ed-acf9-709cd1102119.xml\n",
      "Image:E:\\tfod main\\Tensorflow\\workspace\\images\\collectedimages\\thumbsdown\\thumbsdown.c8445288-08ea-11ed-8042-709cd1102119.jpg -> Annotation:E:/tfod main/Tensorflow/workspace/images/collectedimages/thumbsdown\\thumbsdown.c8445288-08ea-11ed-8042-709cd1102119.xml\n",
      "Image:E:\\tfod main\\Tensorflow\\workspace\\images\\collectedimages\\thumbsdown\\thumbsdown.caad7ed2-08ea-11ed-8581-709cd1102119.jpg -> Annotation:E:/tfod main/Tensorflow/workspace/images/collectedimages/thumbsdown\\thumbsdown.caad7ed2-08ea-11ed-8581-709cd1102119.xml\n",
      "Image:E:\\tfod main\\Tensorflow\\workspace\\images\\collectedimages\\thumbsdown\\thumbsdown.cd14e2ca-08ea-11ed-b351-709cd1102119.jpg -> Annotation:E:/tfod main/Tensorflow/workspace/images/collectedimages/thumbsdown\\thumbsdown.cd14e2ca-08ea-11ed-b351-709cd1102119.xml\n",
      "Image:E:\\tfod main\\Tensorflow\\workspace\\images\\collectedimages\\thumbsdown\\thumbsdown.e2bd5930-08eb-11ed-a899-709cd1102119.jpg -> Annotation:E:/tfod main/Tensorflow/workspace/images/collectedimages/thumbsdown\\thumbsdown.e2bd5930-08eb-11ed-a899-709cd1102119.xml\n",
      "Image:E:\\tfod main\\Tensorflow\\workspace\\images\\collectedimages\\thumbsdown\\thumbsdown.e3f28f9a-08eb-11ed-b28e-709cd1102119.jpg -> Annotation:E:/tfod main/Tensorflow/workspace/images/collectedimages/thumbsdown\\thumbsdown.e3f28f9a-08eb-11ed-b28e-709cd1102119.xml\n",
      "Image:E:\\tfod main\\Tensorflow\\workspace\\images\\collectedimages\\thumbsdown\\thumbsdown.e8c74d8a-08eb-11ed-9e56-709cd1102119.jpg -> Annotation:E:/tfod main/Tensorflow/workspace/images/collectedimages/thumbsdown\\thumbsdown.e8c74d8a-08eb-11ed-9e56-709cd1102119.xml\n",
      "Image:E:\\tfod main\\Tensorflow\\workspace\\images\\collectedimages\\thumbsdown\\thumbsdown.e9fd62f4-08eb-11ed-94bf-709cd1102119.jpg -> Annotation:E:/tfod main/Tensorflow/workspace/images/collectedimages/thumbsdown\\thumbsdown.e9fd62f4-08eb-11ed-94bf-709cd1102119.xml\n",
      "Image:E:\\tfod main\\Tensorflow\\workspace\\images\\collectedimages\\thumbsdown\\thumbsdown.e65cf57a-08eb-11ed-b096-709cd1102119.jpg -> Annotation:E:/tfod main/Tensorflow/workspace/images/collectedimages/thumbsdown\\thumbsdown.e65cf57a-08eb-11ed-b096-709cd1102119.xml\n",
      "Image:E:\\tfod main\\Tensorflow\\workspace\\images\\collectedimages\\thumbsdown\\thumbsdown.e527df7a-08eb-11ed-a4bc-709cd1102119.jpg -> Annotation:E:/tfod main/Tensorflow/workspace/images/collectedimages/thumbsdown\\thumbsdown.e527df7a-08eb-11ed-a4bc-709cd1102119.xml\n",
      "Image:E:\\tfod main\\Tensorflow\\workspace\\images\\collectedimages\\thumbsdown\\thumbsdown.e791a010-08eb-11ed-9be8-709cd1102119.jpg -> Annotation:E:/tfod main/Tensorflow/workspace/images/collectedimages/thumbsdown\\thumbsdown.e791a010-08eb-11ed-9be8-709cd1102119.xml\n",
      "Cancel creation.\n",
      "Image:E:\\tfod main\\Tensorflow\\workspace\\images\\collectedimages\\thumbsdown\\thumbsdown.ec664908-08eb-11ed-b653-709cd1102119.jpg -> Annotation:E:/tfod main/Tensorflow/workspace/images/collectedimages/thumbsdown\\thumbsdown.ec664908-08eb-11ed-b653-709cd1102119.xml\n",
      "Image:E:\\tfod main\\Tensorflow\\workspace\\images\\collectedimages\\thumbsdown\\thumbsdown.ed9aecf6-08eb-11ed-b7ae-709cd1102119.jpg -> Annotation:E:/tfod main/Tensorflow/workspace/images/collectedimages/thumbsdown\\thumbsdown.ed9aecf6-08eb-11ed-b7ae-709cd1102119.xml\n",
      "Image:E:\\tfod main\\Tensorflow\\workspace\\images\\collectedimages\\thumbsup\\thumbsup.af7a63c2-08ea-11ed-9713-709cd1102119.jpg -> Annotation:E:/tfod main/Tensorflow/workspace/images/collectedimages/thumbsup\\thumbsup.af7a63c2-08ea-11ed-9713-709cd1102119.xml\n",
      "Image:E:\\tfod main\\Tensorflow\\workspace\\images\\collectedimages\\thumbsup\\thumbsup.b0b013f6-08ea-11ed-9077-709cd1102119.jpg -> Annotation:E:/tfod main/Tensorflow/workspace/images/collectedimages/thumbsup\\thumbsup.b0b013f6-08ea-11ed-9077-709cd1102119.xml\n",
      "Image:E:\\tfod main\\Tensorflow\\workspace\\images\\collectedimages\\thumbsup\\thumbsup.b44d7d38-08ea-11ed-a3e8-709cd1102119.jpg -> Annotation:E:/tfod main/Tensorflow/workspace/images/collectedimages/thumbsup\\thumbsup.b44d7d38-08ea-11ed-a3e8-709cd1102119.xml\n",
      "Image:E:\\tfod main\\Tensorflow\\workspace\\images\\collectedimages\\thumbsup\\thumbsup.b91f0ed8-08ea-11ed-890e-709cd1102119.jpg -> Annotation:E:/tfod main/Tensorflow/workspace/images/collectedimages/thumbsup\\thumbsup.b91f0ed8-08ea-11ed-890e-709cd1102119.xml\n",
      "Image:E:\\tfod main\\Tensorflow\\workspace\\images\\collectedimages\\thumbsup\\thumbsup.b5820112-08ea-11ed-a329-709cd1102119.jpg -> Annotation:E:/tfod main/Tensorflow/workspace/images/collectedimages/thumbsup\\thumbsup.b5820112-08ea-11ed-a329-709cd1102119.xml\n",
      "Image:E:\\tfod main\\Tensorflow\\workspace\\images\\collectedimages\\thumbsup\\thumbsup.ba54f2f4-08ea-11ed-bbf8-709cd1102119.jpg -> Annotation:E:/tfod main/Tensorflow/workspace/images/collectedimages/thumbsup\\thumbsup.ba54f2f4-08ea-11ed-bbf8-709cd1102119.xml\n",
      "Image:E:\\tfod main\\Tensorflow\\workspace\\images\\collectedimages\\thumbsup\\thumbsup.cb270b7a-08eb-11ed-9b45-709cd1102119.jpg -> Annotation:E:/tfod main/Tensorflow/workspace/images/collectedimages/thumbsup\\thumbsup.cb270b7a-08eb-11ed-9b45-709cd1102119.xml\n",
      "Image:E:\\tfod main\\Tensorflow\\workspace\\images\\collectedimages\\thumbsup\\thumbsup.cc5ce87a-08eb-11ed-8871-709cd1102119.jpg -> Annotation:E:/tfod main/Tensorflow/workspace/images/collectedimages/thumbsup\\thumbsup.cc5ce87a-08eb-11ed-8871-709cd1102119.xml\n",
      "Image:E:\\tfod main\\Tensorflow\\workspace\\images\\collectedimages\\thumbsup\\thumbsup.cd91ba80-08eb-11ed-a381-709cd1102119.jpg -> Annotation:E:/tfod main/Tensorflow/workspace/images/collectedimages/thumbsup\\thumbsup.cd91ba80-08eb-11ed-a381-709cd1102119.xml\n",
      "Image:E:\\tfod main\\Tensorflow\\workspace\\images\\collectedimages\\thumbsup\\thumbsup.cec7f762-08eb-11ed-85f7-709cd1102119.jpg -> Annotation:E:/tfod main/Tensorflow/workspace/images/collectedimages/thumbsup\\thumbsup.cec7f762-08eb-11ed-85f7-709cd1102119.xml\n",
      "Image:E:\\tfod main\\Tensorflow\\workspace\\images\\collectedimages\\thumbsup\\thumbsup.cffcbfee-08eb-11ed-bcd7-709cd1102119.jpg -> Annotation:E:/tfod main/Tensorflow/workspace/images/collectedimages/thumbsup\\thumbsup.cffcbfee-08eb-11ed-bcd7-709cd1102119.xml\n",
      "Image:E:\\tfod main\\Tensorflow\\workspace\\images\\collectedimages\\thumbsup\\thumbsup.d4d0ec36-08eb-11ed-983f-709cd1102119.jpg -> Annotation:E:/tfod main/Tensorflow/workspace/images/collectedimages/thumbsup\\thumbsup.d4d0ec36-08eb-11ed-983f-709cd1102119.xml\n",
      "Image:E:\\tfod main\\Tensorflow\\workspace\\images\\collectedimages\\thumbsup\\thumbsup.d9a3cf74-08eb-11ed-acd0-709cd1102119.jpg -> Annotation:E:/tfod main/Tensorflow/workspace/images/collectedimages/thumbsup\\thumbsup.d9a3cf74-08eb-11ed-acd0-709cd1102119.xml\n",
      "Image:E:\\tfod main\\Tensorflow\\workspace\\images\\collectedimages\\thumbsup\\thumbsup.d39b79b4-08eb-11ed-814e-709cd1102119.jpg -> Annotation:E:/tfod main/Tensorflow/workspace/images/collectedimages/thumbsup\\thumbsup.d39b79b4-08eb-11ed-814e-709cd1102119.xml\n",
      "Image:E:\\tfod main\\Tensorflow\\workspace\\images\\collectedimages\\thumbsup\\thumbsup.d13228e8-08eb-11ed-af31-709cd1102119.jpg -> Annotation:E:/tfod main/Tensorflow/workspace/images/collectedimages/thumbsup\\thumbsup.d13228e8-08eb-11ed-af31-709cd1102119.xml\n"
     ]
    },
    {
     "name": "stderr",
     "output_type": "stream",
     "text": [
      "2022-07-21T12:16:09.803ZE [15884:ShellIpcClient] shell_ipc_client.cc:129:Connect Can't connect to socket at: \\\\.\\Pipe\\GoogleDriveFSPipe_vaibh_shell\n",
      "2022-07-21T12:16:09.805ZE [15884:ShellIpcClient] shell_ipc_client.cc:602:operator() Failed to connect to the server: Status::UNAVAILABLE_RESOURCE\n",
      "2022-07-21T12:16:09.805ZE [15884:ShellIpcClient] shell_ipc_client.cc:129:Connect Can't connect to socket at: \\\\.\\Pipe\\GoogleDriveFSPipe_vaibh_shell\n",
      "2022-07-21T12:16:09.805ZE [11136:ShellIpcClient] shell_ipc_client.cc:129:Connect Can't connect to socket at: \\\\.\\Pipe\\GoogleDriveFSPipe_vaibh_shell\n",
      "2022-07-21T12:16:09.805ZE [15884:ShellIpcClient] shell_ipc_client.cc:602:operator() Failed to connect to the server: Status::UNAVAILABLE_RESOURCE\n",
      "2022-07-21T12:16:09.805ZE [11136:ShellIpcClient] shell_ipc_client.cc:602:operator() Failed to connect to the server: Status::UNAVAILABLE_RESOURCE\n",
      "2022-07-21T12:16:09.805ZE [20272:ShellIpcClient] shell_ipc_client.cc:129:Connect Can't connect to socket at: \\\\.\\Pipe\\GoogleDriveFSPipe_vaibh_shell\n",
      "2022-07-21T12:16:09.805ZE [11136:ShellIpcClient] shell_ipc_client.cc:129:Connect Can't connect to socket at: \\\\.\\Pipe\\GoogleDriveFSPipe_vaibh_shell\n",
      "2022-07-21T12:16:09.806ZE [11136:ShellIpcClient] shell_ipc_client.cc:602:operator() Failed to connect to the server: Status::UNAVAILABLE_RESOURCE\n",
      "2022-07-21T12:16:09.806ZE [20272:ShellIpcClient] shell_ipc_client.cc:602:operator() Failed to connect to the server: Status::UNAVAILABLE_RESOURCE\n",
      "2022-07-21T12:16:09.806ZE [20272:ShellIpcClient] shell_ipc_client.cc:129:Connect Can't connect to socket at: \\\\.\\Pipe\\GoogleDriveFSPipe_vaibh_shell\n",
      "2022-07-21T12:16:09.806ZE [20272:ShellIpcClient] shell_ipc_client.cc:602:operator() Failed to connect to the server: Status::UNAVAILABLE_RESOURCE\n",
      "2022-07-21T12:16:09.930ZE [15884:ShellIpcClient] shell_ipc_client.cc:129:Connect Can't connect to socket at: \\\\.\\Pipe\\GoogleDriveFSPipe_vaibh_shell\n",
      "2022-07-21T12:16:09.931ZE [15884:ShellIpcClient] shell_ipc_client.cc:602:operator() Failed to connect to the server: Status::UNAVAILABLE_RESOURCE\n",
      "2022-07-21T12:16:09.931ZE [11136:ShellIpcClient] shell_ipc_client.cc:129:Connect Can't connect to socket at: \\\\.\\Pipe\\GoogleDriveFSPipe_vaibh_shell\n",
      "2022-07-21T12:16:09.931ZE [11136:ShellIpcClient] shell_ipc_client.cc:602:operator() Failed to connect to the server: Status::UNAVAILABLE_RESOURCE\n",
      "2022-07-21T12:16:09.931ZE [20272:ShellIpcClient] shell_ipc_client.cc:129:Connect Can't connect to socket at: \\\\.\\Pipe\\GoogleDriveFSPipe_vaibh_shell\n",
      "2022-07-21T12:16:09.931ZE [20272:ShellIpcClient] shell_ipc_client.cc:602:operator() Failed to connect to the server: Status::UNAVAILABLE_RESOURCE\n",
      "2022-07-21T12:22:11.052ZE [15884:ShellIpcClient] shell_ipc_client.cc:129:Connect Can't connect to socket at: \\\\.\\Pipe\\GoogleDriveFSPipe_vaibh_shell\n",
      "2022-07-21T12:22:11.052ZE [15884:ShellIpcClient] shell_ipc_client.cc:602:operator() Failed to connect to the server: Status::UNAVAILABLE_RESOURCE\n",
      "2022-07-21T12:22:11.052ZE [11136:ShellIpcClient] shell_ipc_client.cc:129:Connect Can't connect to socket at: \\\\.\\Pipe\\GoogleDriveFSPipe_vaibh_shell\n",
      "2022-07-21T12:22:11.052ZE [11136:ShellIpcClient] shell_ipc_client.cc:602:operator() Failed to connect to the server: Status::UNAVAILABLE_RESOURCE\n",
      "2022-07-21T12:22:11.052ZE [20272:ShellIpcClient] shell_ipc_client.cc:129:Connect Can't connect to socket at: \\\\.\\Pipe\\GoogleDriveFSPipe_vaibh_shell\n",
      "2022-07-21T12:22:11.052ZE [20272:ShellIpcClient] shell_ipc_client.cc:602:operator() Failed to connect to the server: Status::UNAVAILABLE_RESOURCE\n",
      "2022-07-21T12:22:11.055ZE [15884:ShellIpcClient] shell_ipc_client.cc:129:Connect Can't connect to socket at: \\\\.\\Pipe\\GoogleDriveFSPipe_vaibh_shell\n",
      "2022-07-21T12:22:11.055ZE [15884:ShellIpcClient] shell_ipc_client.cc:602:operator() Failed to connect to the server: Status::UNAVAILABLE_RESOURCE\n",
      "2022-07-21T12:22:11.055ZE [11136:ShellIpcClient] shell_ipc_client.cc:129:Connect Can't connect to socket at: \\\\.\\Pipe\\GoogleDriveFSPipe_vaibh_shell\n",
      "2022-07-21T12:22:11.055ZE [11136:ShellIpcClient] shell_ipc_client.cc:602:operator() Failed to connect to the server: Status::UNAVAILABLE_RESOURCE\n",
      "2022-07-21T12:22:11.055ZE [20272:ShellIpcClient] shell_ipc_client.cc:129:Connect Can't connect to socket at: \\\\.\\Pipe\\GoogleDriveFSPipe_vaibh_shell\n",
      "2022-07-21T12:22:11.055ZE [20272:ShellIpcClient] shell_ipc_client.cc:602:operator() Failed to connect to the server: Status::UNAVAILABLE_RESOURCE\n",
      "2022-07-21T12:22:11.077ZE [15884:ShellIpcClient] shell_ipc_client.cc:129:Connect Can't connect to socket at: \\\\.\\Pipe\\GoogleDriveFSPipe_vaibh_shell\n",
      "2022-07-21T12:22:11.077ZE [15884:ShellIpcClient] shell_ipc_client.cc:602:operator() Failed to connect to the server: Status::UNAVAILABLE_RESOURCE\n",
      "2022-07-21T12:22:11.077ZE [11136:ShellIpcClient] shell_ipc_client.cc:129:Connect Can't connect to socket at: \\\\.\\Pipe\\GoogleDriveFSPipe_vaibh_shell\n",
      "2022-07-21T12:22:11.077ZE [11136:ShellIpcClient] shell_ipc_client.cc:602:operator() Failed to connect to the server: Status::UNAVAILABLE_RESOURCE\n",
      "2022-07-21T12:22:11.077ZE [20272:ShellIpcClient] shell_ipc_client.cc:129:Connect Can't connect to socket at: \\\\.\\Pipe\\GoogleDriveFSPipe_vaibh_shell\n",
      "2022-07-21T12:22:11.077ZE [20272:ShellIpcClient] shell_ipc_client.cc:602:operator() Failed to connect to the server: Status::UNAVAILABLE_RESOURCE\n",
      "2022-07-21T12:22:11.100ZE [15884:ShellIpcClient] shell_ipc_client.cc:129:Connect Can't connect to socket at: \\\\.\\Pipe\\GoogleDriveFSPipe_vaibh_shell\n",
      "2022-07-21T12:22:11.100ZE [15884:ShellIpcClient] shell_ipc_client.cc:602:operator() Failed to connect to the server: Status::UNAVAILABLE_RESOURCE\n",
      "2022-07-21T12:22:11.101ZE [11136:ShellIpcClient] shell_ipc_client.cc:129:Connect Can't connect to socket at: \\\\.\\Pipe\\GoogleDriveFSPipe_vaibh_shell\n",
      "2022-07-21T12:22:11.101ZE [11136:ShellIpcClient] shell_ipc_client.cc:602:operator() Failed to connect to the server: Status::UNAVAILABLE_RESOURCE\n",
      "2022-07-21T12:22:11.101ZE [20272:ShellIpcClient] shell_ipc_client.cc:129:Connect Can't connect to socket at: \\\\.\\Pipe\\GoogleDriveFSPipe_vaibh_shell\n",
      "2022-07-21T12:22:11.101ZE [20272:ShellIpcClient] shell_ipc_client.cc:602:operator() Failed to connect to the server: Status::UNAVAILABLE_RESOURCE\n",
      "2022-07-21T12:22:11.103ZE [15884:ShellIpcClient] shell_ipc_client.cc:129:Connect Can't connect to socket at: \\\\.\\Pipe\\GoogleDriveFSPipe_vaibh_shell\n",
      "2022-07-21T12:22:11.104ZE [15884:ShellIpcClient] shell_ipc_client.cc:602:operator() Failed to connect to the server: Status::UNAVAILABLE_RESOURCE\n",
      "2022-07-21T12:22:11.104ZE [11136:ShellIpcClient] shell_ipc_client.cc:129:Connect Can't connect to socket at: \\\\.\\Pipe\\GoogleDriveFSPipe_vaibh_shell\n",
      "2022-07-21T12:22:11.104ZE [11136:ShellIpcClient] shell_ipc_client.cc:602:operator() Failed to connect to the server: Status::UNAVAILABLE_RESOURCE\n",
      "2022-07-21T12:22:11.104ZE [20272:ShellIpcClient] shell_ipc_client.cc:129:Connect Can't connect to socket at: \\\\.\\Pipe\\GoogleDriveFSPipe_vaibh_shell\n",
      "2022-07-21T12:22:11.104ZE [20272:ShellIpcClient] shell_ipc_client.cc:602:operator() Failed to connect to the server: Status::UNAVAILABLE_RESOURCE\n",
      "2022-07-21T12:22:11.150ZE [15884:ShellIpcClient] shell_ipc_client.cc:129:Connect Can't connect to socket at: \\\\.\\Pipe\\GoogleDriveFSPipe_vaibh_shell\n",
      "2022-07-21T12:22:11.150ZE [15884:ShellIpcClient] shell_ipc_client.cc:602:operator() Failed to connect to the server: Status::UNAVAILABLE_RESOURCE\n",
      "2022-07-21T12:22:11.151ZE [11136:ShellIpcClient] shell_ipc_client.cc:129:Connect Can't connect to socket at: \\\\.\\Pipe\\GoogleDriveFSPipe_vaibh_shell\n",
      "2022-07-21T12:22:11.151ZE [11136:ShellIpcClient] shell_ipc_client.cc:602:operator() Failed to connect to the server: Status::UNAVAILABLE_RESOURCE\n",
      "2022-07-21T12:22:11.151ZE [20272:ShellIpcClient] shell_ipc_client.cc:129:Connect Can't connect to socket at: \\\\.\\Pipe\\GoogleDriveFSPipe_vaibh_shell\n",
      "2022-07-21T12:22:11.151ZE [20272:ShellIpcClient] shell_ipc_client.cc:602:operator() Failed to connect to the server: Status::UNAVAILABLE_RESOURCE\n",
      "2022-07-21T12:28:39.526ZE [15884:ShellIpcClient] shell_ipc_client.cc:129:Connect Can't connect to socket at: \\\\.\\Pipe\\GoogleDriveFSPipe_vaibh_shell\n",
      "2022-07-21T12:28:39.526ZE [15884:ShellIpcClient] shell_ipc_client.cc:602:operator() Failed to connect to the server: Status::UNAVAILABLE_RESOURCE\n",
      "2022-07-21T12:28:39.526ZE [11136:ShellIpcClient] shell_ipc_client.cc:129:Connect Can't connect to socket at: \\\\.\\Pipe\\GoogleDriveFSPipe_vaibh_shell\n",
      "2022-07-21T12:28:39.526ZE [11136:ShellIpcClient] shell_ipc_client.cc:602:operator() Failed to connect to the server: Status::UNAVAILABLE_RESOURCE\n",
      "2022-07-21T12:28:39.526ZE [20272:ShellIpcClient] shell_ipc_client.cc:129:Connect Can't connect to socket at: \\\\.\\Pipe\\GoogleDriveFSPipe_vaibh_shell\n",
      "2022-07-21T12:28:39.526ZE [20272:ShellIpcClient] shell_ipc_client.cc:602:operator() Failed to connect to the server: Status::UNAVAILABLE_RESOURCE\n",
      "2022-07-21T12:28:39.530ZE [15884:ShellIpcClient] shell_ipc_client.cc:129:Connect Can't connect to socket at: \\\\.\\Pipe\\GoogleDriveFSPipe_vaibh_shell\n",
      "2022-07-21T12:28:39.530ZE [15884:ShellIpcClient] shell_ipc_client.cc:602:operator() Failed to connect to the server: Status::UNAVAILABLE_RESOURCE\n",
      "2022-07-21T12:28:39.530ZE [11136:ShellIpcClient] shell_ipc_client.cc:129:Connect Can't connect to socket at: \\\\.\\Pipe\\GoogleDriveFSPipe_vaibh_shell\n",
      "2022-07-21T12:28:39.530ZE [11136:ShellIpcClient] shell_ipc_client.cc:602:operator() Failed to connect to the server: Status::UNAVAILABLE_RESOURCE\n",
      "2022-07-21T12:28:39.530ZE [20272:ShellIpcClient] shell_ipc_client.cc:129:Connect Can't connect to socket at: \\\\.\\Pipe\\GoogleDriveFSPipe_vaibh_shell\n",
      "2022-07-21T12:28:39.530ZE [20272:ShellIpcClient] shell_ipc_client.cc:602:operator() Failed to connect to the server: Status::UNAVAILABLE_RESOURCE\n",
      "2022-07-21T12:28:39.557ZE [15884:ShellIpcClient] shell_ipc_client.cc:129:Connect Can't connect to socket at: \\\\.\\Pipe\\GoogleDriveFSPipe_vaibh_shell\n",
      "2022-07-21T12:28:39.557ZE [15884:ShellIpcClient] shell_ipc_client.cc:602:operator() Failed to connect to the server: Status::UNAVAILABLE_RESOURCE\n",
      "2022-07-21T12:28:39.557ZE [11136:ShellIpcClient] shell_ipc_client.cc:129:Connect Can't connect to socket at: \\\\.\\Pipe\\GoogleDriveFSPipe_vaibh_shell\n",
      "2022-07-21T12:28:39.557ZE [11136:ShellIpcClient] shell_ipc_client.cc:602:operator() Failed to connect to the server: Status::UNAVAILABLE_RESOURCE\n",
      "2022-07-21T12:28:39.557ZE [20272:ShellIpcClient] shell_ipc_client.cc:129:Connect Can't connect to socket at: \\\\.\\Pipe\\GoogleDriveFSPipe_vaibh_shell\n",
      "2022-07-21T12:28:39.557ZE [20272:ShellIpcClient] shell_ipc_client.cc:602:operator() Failed to connect to the server: Status::UNAVAILABLE_RESOURCE\n",
      "2022-07-21T12:28:39.573ZE [15884:ShellIpcClient] shell_ipc_client.cc:129:Connect Can't connect to socket at: \\\\.\\Pipe\\GoogleDriveFSPipe_vaibh_shell\n",
      "2022-07-21T12:28:39.573ZE [15884:ShellIpcClient] shell_ipc_client.cc:602:operator() Failed to connect to the server: Status::UNAVAILABLE_RESOURCE\n",
      "2022-07-21T12:28:39.573ZE [11136:ShellIpcClient] shell_ipc_client.cc:129:Connect Can't connect to socket at: \\\\.\\Pipe\\GoogleDriveFSPipe_vaibh_shell\n",
      "2022-07-21T12:28:39.573ZE [11136:ShellIpcClient] shell_ipc_client.cc:602:operator() Failed to connect to the server: Status::UNAVAILABLE_RESOURCE\n",
      "2022-07-21T12:28:39.573ZE [20272:ShellIpcClient] shell_ipc_client.cc:129:Connect Can't connect to socket at: \\\\.\\Pipe\\GoogleDriveFSPipe_vaibh_shell\n",
      "2022-07-21T12:28:39.573ZE [20272:ShellIpcClient] shell_ipc_client.cc:602:operator() Failed to connect to the server: Status::UNAVAILABLE_RESOURCE\n",
      "2022-07-21T12:28:39.579ZE [15884:ShellIpcClient] shell_ipc_client.cc:129:Connect Can't connect to socket at: \\\\.\\Pipe\\GoogleDriveFSPipe_vaibh_shell\n",
      "2022-07-21T12:28:39.579ZE [15884:ShellIpcClient] shell_ipc_client.cc:602:operator() Failed to connect to the server: Status::UNAVAILABLE_RESOURCE\n",
      "2022-07-21T12:28:39.579ZE [11136:ShellIpcClient] shell_ipc_client.cc:129:Connect Can't connect to socket at: \\\\.\\Pipe\\GoogleDriveFSPipe_vaibh_shell\n",
      "2022-07-21T12:28:39.579ZE [11136:ShellIpcClient] shell_ipc_client.cc:602:operator() Failed to connect to the server: Status::UNAVAILABLE_RESOURCE\n",
      "2022-07-21T12:28:39.580ZE [20272:ShellIpcClient] shell_ipc_client.cc:129:Connect Can't connect to socket at: \\\\.\\Pipe\\GoogleDriveFSPipe_vaibh_shell\n",
      "2022-07-21T12:28:39.580ZE [20272:ShellIpcClient] shell_ipc_client.cc:602:operator() Failed to connect to the server: Status::UNAVAILABLE_RESOURCE\n",
      "2022-07-21T12:28:39.628ZE [15884:ShellIpcClient] shell_ipc_client.cc:129:Connect Can't connect to socket at: \\\\.\\Pipe\\GoogleDriveFSPipe_vaibh_shell\n",
      "2022-07-21T12:28:39.628ZE [15884:ShellIpcClient] shell_ipc_client.cc:602:operator() Failed to connect to the server: Status::UNAVAILABLE_RESOURCE\n",
      "2022-07-21T12:28:39.628ZE [11136:ShellIpcClient] shell_ipc_client.cc:129:Connect Can't connect to socket at: \\\\.\\Pipe\\GoogleDriveFSPipe_vaibh_shell\n",
      "2022-07-21T12:28:39.628ZE [11136:ShellIpcClient] shell_ipc_client.cc:602:operator() Failed to connect to the server: Status::UNAVAILABLE_RESOURCE\n",
      "2022-07-21T12:28:39.629ZE [20272:ShellIpcClient] shell_ipc_client.cc:129:Connect Can't connect to socket at: \\\\.\\Pipe\\GoogleDriveFSPipe_vaibh_shell\n",
      "2022-07-21T12:28:39.629ZE [20272:ShellIpcClient] shell_ipc_client.cc:602:operator() Failed to connect to the server: Status::UNAVAILABLE_RESOURCE\n",
      "2022-07-21T12:34:36.383ZE [15884:ShellIpcClient] shell_ipc_client.cc:129:Connect Can't connect to socket at: \\\\.\\Pipe\\GoogleDriveFSPipe_vaibh_shell\n",
      "2022-07-21T12:34:36.383ZE [15884:ShellIpcClient] shell_ipc_client.cc:602:operator() Failed to connect to the server: Status::UNAVAILABLE_RESOURCE\n",
      "2022-07-21T12:34:36.383ZE [11136:ShellIpcClient] shell_ipc_client.cc:129:Connect Can't connect to socket at: \\\\.\\Pipe\\GoogleDriveFSPipe_vaibh_shell\n",
      "2022-07-21T12:34:36.384ZE [11136:ShellIpcClient] shell_ipc_client.cc:602:operator() Failed to connect to the server: Status::UNAVAILABLE_RESOURCE\n",
      "2022-07-21T12:34:36.384ZE [20272:ShellIpcClient] shell_ipc_client.cc:129:Connect Can't connect to socket at: \\\\.\\Pipe\\GoogleDriveFSPipe_vaibh_shell\n",
      "2022-07-21T12:34:36.384ZE [20272:ShellIpcClient] shell_ipc_client.cc:602:operator() Failed to connect to the server: Status::UNAVAILABLE_RESOURCE\n",
      "2022-07-21T12:34:36.387ZE [15884:ShellIpcClient] shell_ipc_client.cc:129:Connect Can't connect to socket at: \\\\.\\Pipe\\GoogleDriveFSPipe_vaibh_shell\n",
      "2022-07-21T12:34:36.387ZE [15884:ShellIpcClient] shell_ipc_client.cc:602:operator() Failed to connect to the server: Status::UNAVAILABLE_RESOURCE\n",
      "2022-07-21T12:34:36.387ZE [11136:ShellIpcClient] shell_ipc_client.cc:129:Connect Can't connect to socket at: \\\\.\\Pipe\\GoogleDriveFSPipe_vaibh_shell\n",
      "2022-07-21T12:34:36.387ZE [11136:ShellIpcClient] shell_ipc_client.cc:602:operator() Failed to connect to the server: Status::UNAVAILABLE_RESOURCE\n",
      "2022-07-21T12:34:36.387ZE [20272:ShellIpcClient] shell_ipc_client.cc:129:Connect Can't connect to socket at: \\\\.\\Pipe\\GoogleDriveFSPipe_vaibh_shell\n",
      "2022-07-21T12:34:36.388ZE [20272:ShellIpcClient] shell_ipc_client.cc:602:operator() Failed to connect to the server: Status::UNAVAILABLE_RESOURCE\n",
      "2022-07-21T12:34:36.414ZE [15884:ShellIpcClient] shell_ipc_client.cc:129:Connect Can't connect to socket at: \\\\.\\Pipe\\GoogleDriveFSPipe_vaibh_shell\n",
      "2022-07-21T12:34:36.414ZE [15884:ShellIpcClient] shell_ipc_client.cc:602:operator() Failed to connect to the server: Status::UNAVAILABLE_RESOURCE\n",
      "2022-07-21T12:34:36.414ZE [11136:ShellIpcClient] shell_ipc_client.cc:129:Connect Can't connect to socket at: \\\\.\\Pipe\\GoogleDriveFSPipe_vaibh_shell\n",
      "2022-07-21T12:34:36.414ZE [11136:ShellIpcClient] shell_ipc_client.cc:602:operator() Failed to connect to the server: Status::UNAVAILABLE_RESOURCE\n",
      "2022-07-21T12:34:36.414ZE [20272:ShellIpcClient] shell_ipc_client.cc:129:Connect Can't connect to socket at: \\\\.\\Pipe\\GoogleDriveFSPipe_vaibh_shell\n",
      "2022-07-21T12:34:36.415ZE [20272:ShellIpcClient] shell_ipc_client.cc:602:operator() Failed to connect to the server: Status::UNAVAILABLE_RESOURCE\n",
      "2022-07-21T12:34:36.435ZE [15884:ShellIpcClient] shell_ipc_client.cc:129:Connect Can't connect to socket at: \\\\.\\Pipe\\GoogleDriveFSPipe_vaibh_shell\n",
      "2022-07-21T12:34:36.435ZE [15884:ShellIpcClient] shell_ipc_client.cc:602:operator() Failed to connect to the server: Status::UNAVAILABLE_RESOURCE\n",
      "2022-07-21T12:34:36.435ZE [11136:ShellIpcClient] shell_ipc_client.cc:129:Connect Can't connect to socket at: \\\\.\\Pipe\\GoogleDriveFSPipe_vaibh_shell\n",
      "2022-07-21T12:34:36.435ZE [11136:ShellIpcClient] shell_ipc_client.cc:602:operator() Failed to connect to the server: Status::UNAVAILABLE_RESOURCE\n",
      "2022-07-21T12:34:36.436ZE [20272:ShellIpcClient] shell_ipc_client.cc:129:Connect Can't connect to socket at: \\\\.\\Pipe\\GoogleDriveFSPipe_vaibh_shell\n",
      "2022-07-21T12:34:36.436ZE [20272:ShellIpcClient] shell_ipc_client.cc:602:operator() Failed to connect to the server: Status::UNAVAILABLE_RESOURCE\n",
      "2022-07-21T12:34:36.452ZE [15884:ShellIpcClient] shell_ipc_client.cc:129:Connect Can't connect to socket at: \\\\.\\Pipe\\GoogleDriveFSPipe_vaibh_shell\n",
      "2022-07-21T12:34:36.452ZE [15884:ShellIpcClient] shell_ipc_client.cc:602:operator() Failed to connect to the server: Status::UNAVAILABLE_RESOURCE\n",
      "2022-07-21T12:34:36.452ZE [11136:ShellIpcClient] shell_ipc_client.cc:129:Connect Can't connect to socket at: \\\\.\\Pipe\\GoogleDriveFSPipe_vaibh_shell\n",
      "2022-07-21T12:34:36.452ZE [11136:ShellIpcClient] shell_ipc_client.cc:602:operator() Failed to connect to the server: Status::UNAVAILABLE_RESOURCE\n",
      "2022-07-21T12:34:36.452ZE [20272:ShellIpcClient] shell_ipc_client.cc:129:Connect Can't connect to socket at: \\\\.\\Pipe\\GoogleDriveFSPipe_vaibh_shell\n",
      "2022-07-21T12:34:36.452ZE [20272:ShellIpcClient] shell_ipc_client.cc:602:operator() Failed to connect to the server: Status::UNAVAILABLE_RESOURCE\n",
      "2022-07-21T12:34:36.484ZE [15884:ShellIpcClient] shell_ipc_client.cc:129:Connect Can't connect to socket at: \\\\.\\Pipe\\GoogleDriveFSPipe_vaibh_shell\n",
      "2022-07-21T12:34:36.484ZE [15884:ShellIpcClient] shell_ipc_client.cc:602:operator() Failed to connect to the server: Status::UNAVAILABLE_RESOURCE\n",
      "2022-07-21T12:34:36.484ZE [11136:ShellIpcClient] shell_ipc_client.cc:129:Connect Can't connect to socket at: \\\\.\\Pipe\\GoogleDriveFSPipe_vaibh_shell\n",
      "2022-07-21T12:34:36.484ZE [11136:ShellIpcClient] shell_ipc_client.cc:602:operator() Failed to connect to the server: Status::UNAVAILABLE_RESOURCE\n",
      "2022-07-21T12:34:36.484ZE [20272:ShellIpcClient] shell_ipc_client.cc:129:Connect Can't connect to socket at: \\\\.\\Pipe\\GoogleDriveFSPipe_vaibh_shell\n",
      "2022-07-21T12:34:36.484ZE [20272:ShellIpcClient] shell_ipc_client.cc:602:operator() Failed to connect to the server: Status::UNAVAILABLE_RESOURCE\n"
     ]
    }
   ],
   "source": [
    "!cd {LABELIMG_PATH} && python labelImg.py"
   ]
  },
  {
   "cell_type": "markdown",
   "metadata": {},
   "source": [
    "# 6. Move them into a Training and Testing Partition"
   ]
  },
  {
   "cell_type": "code",
   "execution_count": null,
   "metadata": {},
   "outputs": [],
   "source": [
    "#Image collection completed"
   ]
  }
 ],
 "metadata": {
  "kernelspec": {
   "display_name": "tfod",
   "language": "python",
   "name": "tfod"
  },
  "language_info": {
   "codemirror_mode": {
    "name": "ipython",
    "version": 3
   },
   "file_extension": ".py",
   "mimetype": "text/x-python",
   "name": "python",
   "nbconvert_exporter": "python",
   "pygments_lexer": "ipython3",
   "version": "3.7.3"
  }
 },
 "nbformat": 4,
 "nbformat_minor": 2
}
