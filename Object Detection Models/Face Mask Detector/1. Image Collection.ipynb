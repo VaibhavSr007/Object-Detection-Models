{
 "cells": [
  {
   "cell_type": "markdown",
   "metadata": {},
   "source": [
    "# 1. Import Dependencies"
   ]
  },
  {
   "cell_type": "code",
   "execution_count": 1,
   "metadata": {},
   "outputs": [
    {
     "name": "stdout",
     "output_type": "stream",
     "text": [
      "Collecting opencv-python\n",
      "  Using cached opencv_python-4.6.0.66-cp36-abi3-win_amd64.whl (35.6 MB)\n",
      "Collecting numpy>=1.14.5\n",
      "  Using cached numpy-1.21.6-cp37-cp37m-win_amd64.whl (14.0 MB)\n",
      "Installing collected packages: numpy, opencv-python\n",
      "Successfully installed numpy-1.21.6 opencv-python-4.6.0.66\n"
     ]
    }
   ],
   "source": [
    "!pip install opencv-python"
   ]
  },
  {
   "cell_type": "code",
   "execution_count": 2,
   "metadata": {},
   "outputs": [],
   "source": [
    "# Import opencv\n",
    "import cv2 \n",
    "\n",
    "# Import uuid\n",
    "import uuid\n",
    "\n",
    "# Import Operating System\n",
    "import os\n",
    "\n",
    "# Import time\n",
    "import time"
   ]
  },
  {
   "cell_type": "markdown",
   "metadata": {},
   "source": [
    "# 2. Define Images to Collect"
   ]
  },
  {
   "cell_type": "code",
   "execution_count": 3,
   "metadata": {},
   "outputs": [],
   "source": [
    "labels = ['masked','nomask']\n",
    "number_imgs = 20"
   ]
  },
  {
   "cell_type": "markdown",
   "metadata": {},
   "source": [
    "# 3. Setup Folders "
   ]
  },
  {
   "cell_type": "code",
   "execution_count": 4,
   "metadata": {},
   "outputs": [],
   "source": [
    "IMAGES_PATH = os.path.join('Tensorflow', 'workspace', 'images', 'collectedimages')"
   ]
  },
  {
   "cell_type": "code",
   "execution_count": 5,
   "metadata": {},
   "outputs": [],
   "source": [
    "if not os.path.exists(IMAGES_PATH):\n",
    "    if os.name == 'nt':\n",
    "         !mkdir {IMAGES_PATH}\n",
    "for label in labels:\n",
    "    path = os.path.join(IMAGES_PATH, label)\n",
    "    if not os.path.exists(path):\n",
    "        !mkdir {path}"
   ]
  },
  {
   "cell_type": "markdown",
   "metadata": {},
   "source": [
    "# 4. Capture Images"
   ]
  },
  {
   "cell_type": "code",
   "execution_count": 6,
   "metadata": {},
   "outputs": [
    {
     "name": "stdout",
     "output_type": "stream",
     "text": [
      "Collecting images for masked\n",
      "Collecting image 0\n",
      "Collecting image 1\n",
      "Collecting image 2\n",
      "Collecting image 3\n",
      "Collecting image 4\n",
      "Collecting image 5\n",
      "Collecting image 6\n",
      "Collecting image 7\n",
      "Collecting image 8\n",
      "Collecting image 9\n",
      "Collecting image 10\n",
      "Collecting image 11\n",
      "Collecting image 12\n",
      "Collecting image 13\n",
      "Collecting image 14\n",
      "Collecting image 15\n",
      "Collecting image 16\n",
      "Collecting image 17\n",
      "Collecting image 18\n",
      "Collecting image 19\n",
      "Collecting images for nomask\n",
      "Collecting image 0\n",
      "Collecting image 1\n",
      "Collecting image 2\n",
      "Collecting image 3\n",
      "Collecting image 4\n",
      "Collecting image 5\n",
      "Collecting image 6\n",
      "Collecting image 7\n",
      "Collecting image 8\n",
      "Collecting image 9\n",
      "Collecting image 10\n",
      "Collecting image 11\n",
      "Collecting image 12\n",
      "Collecting image 13\n",
      "Collecting image 14\n",
      "Collecting image 15\n",
      "Collecting image 16\n",
      "Collecting image 17\n",
      "Collecting image 18\n",
      "Collecting image 19\n"
     ]
    }
   ],
   "source": [
    "for label in labels:\n",
    "    cap = cv2.VideoCapture(1)\n",
    "    print('Collecting images for {}'.format(label))\n",
    "    time.sleep(5)\n",
    "    for imgnum in range(number_imgs):\n",
    "        print('Collecting image {}'.format(imgnum))\n",
    "        ret, frame = cap.read()\n",
    "        imgname = os.path.join(IMAGES_PATH,label,label+'.'+'{}.jpg'.format(str(uuid.uuid1())))\n",
    "        cv2.imwrite(imgname, frame)\n",
    "        cv2.imshow('frame', frame)\n",
    "        time.sleep(2)\n",
    "\n",
    "        if cv2.waitKey(1) & 0xFF == ord('q'):\n",
    "            break\n",
    "cap.release()\n",
    "cv2.destroyAllWindows()"
   ]
  },
  {
   "cell_type": "markdown",
   "metadata": {},
   "source": [
    "# 5. Image Labelling"
   ]
  },
  {
   "cell_type": "code",
   "execution_count": 7,
   "metadata": {},
   "outputs": [
    {
     "name": "stdout",
     "output_type": "stream",
     "text": [
      "Collecting pyqt5\n",
      "  Using cached PyQt5-5.15.7-cp37-abi3-win_amd64.whl (6.8 MB)\n",
      "Collecting lxml\n",
      "  Using cached lxml-4.9.1-cp37-cp37m-win_amd64.whl (3.6 MB)\n",
      "Collecting PyQt5-Qt5>=5.15.0\n",
      "  Using cached PyQt5_Qt5-5.15.2-py3-none-win_amd64.whl (50.1 MB)\n",
      "Collecting PyQt5-sip<13,>=12.11\n",
      "  Using cached PyQt5_sip-12.11.0-cp37-cp37m-win_amd64.whl (77 kB)\n",
      "Installing collected packages: PyQt5-Qt5, PyQt5-sip, lxml, pyqt5\n",
      "Successfully installed PyQt5-Qt5-5.15.2 PyQt5-sip-12.11.0 lxml-4.9.1 pyqt5-5.15.7\n"
     ]
    }
   ],
   "source": [
    "!pip install --upgrade pyqt5 lxml"
   ]
  },
  {
   "cell_type": "code",
   "execution_count": 8,
   "metadata": {},
   "outputs": [],
   "source": [
    "LABELIMG_PATH = os.path.join('Tensorflow', 'labelimg')"
   ]
  },
  {
   "cell_type": "code",
   "execution_count": 12,
   "metadata": {},
   "outputs": [
    {
     "name": "stderr",
     "output_type": "stream",
     "text": [
      "Cloning into 'Tensorflow\\labelimg'...\n"
     ]
    }
   ],
   "source": [
    "# cloned https://github.com/tzutalin/labelImg into Tensorflow/labelimg using github desktop"
   ]
  },
  {
   "cell_type": "code",
   "execution_count": 9,
   "metadata": {},
   "outputs": [],
   "source": [
    "if os.name =='nt':\n",
    "    !cd {LABELIMG_PATH} && pyrcc5 -o libs/resources.py resources.qrc"
   ]
  },
  {
   "cell_type": "code",
   "execution_count": 10,
   "metadata": {},
   "outputs": [
    {
     "name": "stdout",
     "output_type": "stream",
     "text": [
      "Image:D:\\tfod main\\Tensorflow\\workspace\\images\\collectedimages\\masked\\masked.6c1c1c00-0dac-11ed-a565-709cd1102119.jpg -> Annotation:D:/tfod main/Tensorflow/workspace/images/collectedimages/masked\\masked.6c1c1c00-0dac-11ed-a565-709cd1102119.xml\n",
      "Image:D:\\tfod main\\Tensorflow\\workspace\\images\\collectedimages\\masked\\masked.6d4e8462-0dac-11ed-9e76-709cd1102119.jpg -> Annotation:D:/tfod main/Tensorflow/workspace/images/collectedimages/masked\\masked.6d4e8462-0dac-11ed-9e76-709cd1102119.xml\n",
      "Image:D:\\tfod main\\Tensorflow\\workspace\\images\\collectedimages\\masked\\masked.6e82a29a-0dac-11ed-b2a0-709cd1102119.jpg -> Annotation:D:/tfod main/Tensorflow/workspace/images/collectedimages/masked\\masked.6e82a29a-0dac-11ed-b2a0-709cd1102119.xml\n",
      "Image:D:\\tfod main\\Tensorflow\\workspace\\images\\collectedimages\\masked\\masked.6fb967e4-0dac-11ed-9ce6-709cd1102119.jpg -> Annotation:D:/tfod main/Tensorflow/workspace/images/collectedimages/masked\\masked.6fb967e4-0dac-11ed-9ce6-709cd1102119.xml\n",
      "Image:D:\\tfod main\\Tensorflow\\workspace\\images\\collectedimages\\masked\\masked.7a8b5476-0dac-11ed-8144-709cd1102119.jpg -> Annotation:D:/tfod main/Tensorflow/workspace/images/collectedimages/masked\\masked.7a8b5476-0dac-11ed-8144-709cd1102119.xml\n",
      "Image:D:\\tfod main\\Tensorflow\\workspace\\images\\collectedimages\\masked\\masked.7bbf7e38-0dac-11ed-9e64-709cd1102119.jpg -> Annotation:D:/tfod main/Tensorflow/workspace/images/collectedimages/masked\\masked.7bbf7e38-0dac-11ed-9e64-709cd1102119.xml\n",
      "Image:D:\\tfod main\\Tensorflow\\workspace\\images\\collectedimages\\masked\\masked.7cf5fc40-0dac-11ed-967b-709cd1102119.jpg -> Annotation:D:/tfod main/Tensorflow/workspace/images/collectedimages/masked\\masked.7cf5fc40-0dac-11ed-967b-709cd1102119.xml\n",
      "Image:D:\\tfod main\\Tensorflow\\workspace\\images\\collectedimages\\masked\\masked.7e28538c-0dac-11ed-b411-709cd1102119.jpg -> Annotation:D:/tfod main/Tensorflow/workspace/images/collectedimages/masked\\masked.7e28538c-0dac-11ed-b411-709cd1102119.xml\n",
      "Image:D:\\tfod main\\Tensorflow\\workspace\\images\\collectedimages\\masked\\masked.7f5db2fa-0dac-11ed-b9c6-709cd1102119.jpg -> Annotation:D:/tfod main/Tensorflow/workspace/images/collectedimages/masked\\masked.7f5db2fa-0dac-11ed-b9c6-709cd1102119.xml\n",
      "Image:D:\\tfod main\\Tensorflow\\workspace\\images\\collectedimages\\masked\\masked.70eec7e4-0dac-11ed-8e8d-709cd1102119.jpg -> Annotation:D:/tfod main/Tensorflow/workspace/images/collectedimages/masked\\masked.70eec7e4-0dac-11ed-8e8d-709cd1102119.xml\n",
      "Image:D:\\tfod main\\Tensorflow\\workspace\\images\\collectedimages\\masked\\masked.75bd9426-0dac-11ed-b936-709cd1102119.jpg -> Annotation:D:/tfod main/Tensorflow/workspace/images/collectedimages/masked\\masked.75bd9426-0dac-11ed-b936-709cd1102119.xml\n",
      "Image:D:\\tfod main\\Tensorflow\\workspace\\images\\collectedimages\\masked\\masked.76f14cc0-0dac-11ed-b148-709cd1102119.jpg -> Annotation:D:/tfod main/Tensorflow/workspace/images/collectedimages/masked\\masked.76f14cc0-0dac-11ed-b148-709cd1102119.xml\n",
      "Image:D:\\tfod main\\Tensorflow\\workspace\\images\\collectedimages\\masked\\masked.81c41030-0dac-11ed-b0cd-709cd1102119.jpg -> Annotation:D:/tfod main/Tensorflow/workspace/images/collectedimages/masked\\masked.81c41030-0dac-11ed-b0cd-709cd1102119.xml\n",
      "Image:D:\\tfod main\\Tensorflow\\workspace\\images\\collectedimages\\masked\\masked.7222d76e-0dac-11ed-bb65-709cd1102119.jpg -> Annotation:D:/tfod main/Tensorflow/workspace/images/collectedimages/masked\\masked.7222d76e-0dac-11ed-bb65-709cd1102119.xml\n",
      "Image:D:\\tfod main\\Tensorflow\\workspace\\images\\collectedimages\\masked\\masked.7489ed82-0dac-11ed-8f8d-709cd1102119.jpg -> Annotation:D:/tfod main/Tensorflow/workspace/images/collectedimages/masked\\masked.7489ed82-0dac-11ed-8f8d-709cd1102119.xml\n",
      "Image:D:\\tfod main\\Tensorflow\\workspace\\images\\collectedimages\\masked\\masked.78249f3e-0dac-11ed-9b1b-709cd1102119.jpg -> Annotation:D:/tfod main/Tensorflow/workspace/images/collectedimages/masked\\masked.78249f3e-0dac-11ed-9b1b-709cd1102119.xml\n",
      "Image:D:\\tfod main\\Tensorflow\\workspace\\images\\collectedimages\\masked\\masked.80914ce4-0dac-11ed-b75c-709cd1102119.jpg -> Annotation:D:/tfod main/Tensorflow/workspace/images/collectedimages/masked\\masked.80914ce4-0dac-11ed-b75c-709cd1102119.xml\n",
      "Image:D:\\tfod main\\Tensorflow\\workspace\\images\\collectedimages\\masked\\masked.73573486-0dac-11ed-be47-709cd1102119.jpg -> Annotation:D:/tfod main/Tensorflow/workspace/images/collectedimages/masked\\masked.73573486-0dac-11ed-be47-709cd1102119.xml\n",
      "Image:D:\\tfod main\\Tensorflow\\workspace\\images\\collectedimages\\masked\\masked.79591634-0dac-11ed-8c9c-709cd1102119.jpg -> Annotation:D:/tfod main/Tensorflow/workspace/images/collectedimages/masked\\masked.79591634-0dac-11ed-8c9c-709cd1102119.xml\n",
      "Image:D:\\tfod main\\Tensorflow\\workspace\\images\\collectedimages\\nomask\\nomask.8ad6ca40-0dac-11ed-946d-709cd1102119.jpg -> Annotation:D:/tfod main/Tensorflow/workspace/images/collectedimages/nomask\\nomask.8ad6ca40-0dac-11ed-946d-709cd1102119.xml\n",
      "Image:D:\\tfod main\\Tensorflow\\workspace\\images\\collectedimages\\nomask\\nomask.8c0ad08c-0dac-11ed-b019-709cd1102119.jpg -> Annotation:D:/tfod main/Tensorflow/workspace/images/collectedimages/nomask\\nomask.8c0ad08c-0dac-11ed-b019-709cd1102119.xml\n",
      "Image:D:\\tfod main\\Tensorflow\\workspace\\images\\collectedimages\\nomask\\nomask.8d3f6b9e-0dac-11ed-aa75-709cd1102119.jpg -> Annotation:D:/tfod main/Tensorflow/workspace/images/collectedimages/nomask\\nomask.8d3f6b9e-0dac-11ed-aa75-709cd1102119.xml\n",
      "Image:D:\\tfod main\\Tensorflow\\workspace\\images\\collectedimages\\nomask\\nomask.8e73f712-0dac-11ed-8bc9-709cd1102119.jpg -> Annotation:D:/tfod main/Tensorflow/workspace/images/collectedimages/nomask\\nomask.8e73f712-0dac-11ed-8bc9-709cd1102119.xml\n",
      "Image:D:\\tfod main\\Tensorflow\\workspace\\images\\collectedimages\\nomask\\nomask.8fa687e6-0dac-11ed-90a0-709cd1102119.jpg -> Annotation:D:/tfod main/Tensorflow/workspace/images/collectedimages/nomask\\nomask.8fa687e6-0dac-11ed-90a0-709cd1102119.xml\n",
      "Image:D:\\tfod main\\Tensorflow\\workspace\\images\\collectedimages\\nomask\\nomask.9a7ccb8c-0dac-11ed-8c9a-709cd1102119.jpg -> Annotation:D:/tfod main/Tensorflow/workspace/images/collectedimages/nomask\\nomask.9a7ccb8c-0dac-11ed-8c9a-709cd1102119.xml\n",
      "Image:D:\\tfod main\\Tensorflow\\workspace\\images\\collectedimages\\nomask\\nomask.9bb08bc0-0dac-11ed-8874-709cd1102119.jpg -> Annotation:D:/tfod main/Tensorflow/workspace/images/collectedimages/nomask\\nomask.9bb08bc0-0dac-11ed-8874-709cd1102119.xml\n",
      "Image:D:\\tfod main\\Tensorflow\\workspace\\images\\collectedimages\\nomask\\nomask.9ce3f850-0dac-11ed-960d-709cd1102119.jpg -> Annotation:D:/tfod main/Tensorflow/workspace/images/collectedimages/nomask\\nomask.9ce3f850-0dac-11ed-960d-709cd1102119.xml\n",
      "Image:D:\\tfod main\\Tensorflow\\workspace\\images\\collectedimages\\nomask\\nomask.89a23a64-0dac-11ed-bc99-709cd1102119.jpg -> Annotation:D:/tfod main/Tensorflow/workspace/images/collectedimages/nomask\\nomask.89a23a64-0dac-11ed-bc99-709cd1102119.xml\n",
      "Image:D:\\tfod main\\Tensorflow\\workspace\\images\\collectedimages\\nomask\\nomask.90daf0f0-0dac-11ed-8aa7-709cd1102119.jpg -> Annotation:D:/tfod main/Tensorflow/workspace/images/collectedimages/nomask\\nomask.90daf0f0-0dac-11ed-8aa7-709cd1102119.xml\n",
      "Image:D:\\tfod main\\Tensorflow\\workspace\\images\\collectedimages\\nomask\\nomask.95adce74-0dac-11ed-82ba-709cd1102119.jpg -> Annotation:D:/tfod main/Tensorflow/workspace/images/collectedimages/nomask\\nomask.95adce74-0dac-11ed-82ba-709cd1102119.xml\n",
      "Image:D:\\tfod main\\Tensorflow\\workspace\\images\\collectedimages\\nomask\\nomask.96e0f38c-0dac-11ed-a38a-709cd1102119.jpg -> Annotation:D:/tfod main/Tensorflow/workspace/images/collectedimages/nomask\\nomask.96e0f38c-0dac-11ed-a38a-709cd1102119.xml\n",
      "Image:D:\\tfod main\\Tensorflow\\workspace\\images\\collectedimages\\nomask\\nomask.886dbc36-0dac-11ed-bc7e-709cd1102119.jpg -> Annotation:D:/tfod main/Tensorflow/workspace/images/collectedimages/nomask\\nomask.886dbc36-0dac-11ed-bc7e-709cd1102119.xml\n",
      "Image:D:\\tfod main\\Tensorflow\\workspace\\images\\collectedimages\\nomask\\nomask.920f544c-0dac-11ed-9883-709cd1102119.jpg -> Annotation:D:/tfod main/Tensorflow/workspace/images/collectedimages/nomask\\nomask.920f544c-0dac-11ed-9883-709cd1102119.xml\n",
      "Image:D:\\tfod main\\Tensorflow\\workspace\\images\\collectedimages\\nomask\\nomask.8739ec30-0dac-11ed-b379-709cd1102119.jpg -> Annotation:D:/tfod main/Tensorflow/workspace/images/collectedimages/nomask\\nomask.8739ec30-0dac-11ed-b379-709cd1102119.xml\n",
      "Image:D:\\tfod main\\Tensorflow\\workspace\\images\\collectedimages\\nomask\\nomask.9342c8ac-0dac-11ed-94f3-709cd1102119.jpg -> Annotation:D:/tfod main/Tensorflow/workspace/images/collectedimages/nomask\\nomask.9342c8ac-0dac-11ed-94f3-709cd1102119.xml\n",
      "Image:D:\\tfod main\\Tensorflow\\workspace\\images\\collectedimages\\nomask\\nomask.9947b4f0-0dac-11ed-ab92-709cd1102119.jpg -> Annotation:D:/tfod main/Tensorflow/workspace/images/collectedimages/nomask\\nomask.9947b4f0-0dac-11ed-ab92-709cd1102119.xml\n",
      "Image:D:\\tfod main\\Tensorflow\\workspace\\images\\collectedimages\\nomask\\nomask.94797c24-0dac-11ed-9b19-709cd1102119.jpg -> Annotation:D:/tfod main/Tensorflow/workspace/images/collectedimages/nomask\\nomask.94797c24-0dac-11ed-9b19-709cd1102119.xml\n",
      "Image:D:\\tfod main\\Tensorflow\\workspace\\images\\collectedimages\\nomask\\nomask.98149938-0dac-11ed-aaa5-709cd1102119.jpg -> Annotation:D:/tfod main/Tensorflow/workspace/images/collectedimages/nomask\\nomask.98149938-0dac-11ed-aaa5-709cd1102119.xml\n"
     ]
    },
    {
     "name": "stderr",
     "output_type": "stream",
     "text": [
      "2022-07-27T13:11:33.466ZE [1288:ShellIpcClient] shell_ipc_client.cc:129:Connect Can't connect to socket at: \\\\.\\Pipe\\GoogleDriveFSPipe_vaibh_shell\n",
      "2022-07-27T13:11:33.469ZE [1288:ShellIpcClient] shell_ipc_client.cc:602:operator() Failed to connect to the server: Status::UNAVAILABLE_RESOURCE\n",
      "2022-07-27T13:11:33.469ZE [1444:ShellIpcClient] shell_ipc_client.cc:129:Connect Can't connect to socket at: \\\\.\\Pipe\\GoogleDriveFSPipe_vaibh_shell\n",
      "2022-07-27T13:11:33.469ZE [1444:ShellIpcClient] shell_ipc_client.cc:602:operator() Failed to connect to the server: Status::UNAVAILABLE_RESOURCE\n",
      "2022-07-27T13:11:33.470ZE [2332:ShellIpcClient] shell_ipc_client.cc:129:Connect Can't connect to socket at: \\\\.\\Pipe\\GoogleDriveFSPipe_vaibh_shell\n",
      "2022-07-27T13:11:33.470ZE [2332:ShellIpcClient] shell_ipc_client.cc:602:operator() Failed to connect to the server: Status::UNAVAILABLE_RESOURCE\n",
      "2022-07-27T13:11:33.474ZE [1288:ShellIpcClient] shell_ipc_client.cc:129:Connect Can't connect to socket at: \\\\.\\Pipe\\GoogleDriveFSPipe_vaibh_shell\n",
      "2022-07-27T13:11:33.474ZE [1288:ShellIpcClient] shell_ipc_client.cc:602:operator() Failed to connect to the server: Status::UNAVAILABLE_RESOURCE\n",
      "2022-07-27T13:11:33.474ZE [1444:ShellIpcClient] shell_ipc_client.cc:129:Connect Can't connect to socket at: \\\\.\\Pipe\\GoogleDriveFSPipe_vaibh_shell\n",
      "2022-07-27T13:11:33.474ZE [1444:ShellIpcClient] shell_ipc_client.cc:602:operator() Failed to connect to the server: Status::UNAVAILABLE_RESOURCE\n",
      "2022-07-27T13:11:33.474ZE [2332:ShellIpcClient] shell_ipc_client.cc:129:Connect Can't connect to socket at: \\\\.\\Pipe\\GoogleDriveFSPipe_vaibh_shell\n",
      "2022-07-27T13:11:33.474ZE [2332:ShellIpcClient] shell_ipc_client.cc:602:operator() Failed to connect to the server: Status::UNAVAILABLE_RESOURCE\n",
      "2022-07-27T13:11:33.563ZE [1288:ShellIpcClient] shell_ipc_client.cc:129:Connect Can't connect to socket at: \\\\.\\Pipe\\GoogleDriveFSPipe_vaibh_shell\n",
      "2022-07-27T13:11:33.563ZE [1288:ShellIpcClient] shell_ipc_client.cc:602:operator() Failed to connect to the server: Status::UNAVAILABLE_RESOURCE\n",
      "2022-07-27T13:11:33.563ZE [1444:ShellIpcClient] shell_ipc_client.cc:129:Connect Can't connect to socket at: \\\\.\\Pipe\\GoogleDriveFSPipe_vaibh_shell\n",
      "2022-07-27T13:11:33.563ZE [1444:ShellIpcClient] shell_ipc_client.cc:602:operator() Failed to connect to the server: Status::UNAVAILABLE_RESOURCE\n",
      "2022-07-27T13:11:33.563ZE [2332:ShellIpcClient] shell_ipc_client.cc:129:Connect Can't connect to socket at: \\\\.\\Pipe\\GoogleDriveFSPipe_vaibh_shell\n",
      "2022-07-27T13:11:33.563ZE [2332:ShellIpcClient] shell_ipc_client.cc:602:operator() Failed to connect to the server: Status::UNAVAILABLE_RESOURCE\n",
      "2022-07-27T13:20:33.956ZE [1288:ShellIpcClient] shell_ipc_client.cc:129:Connect Can't connect to socket at: \\\\.\\Pipe\\GoogleDriveFSPipe_vaibh_shell\n",
      "2022-07-27T13:20:33.956ZE [1288:ShellIpcClient] shell_ipc_client.cc:602:operator() Failed to connect to the server: Status::UNAVAILABLE_RESOURCE\n",
      "2022-07-27T13:20:33.957ZE [1444:ShellIpcClient] shell_ipc_client.cc:129:Connect Can't connect to socket at: \\\\.\\Pipe\\GoogleDriveFSPipe_vaibh_shell\n",
      "2022-07-27T13:20:33.957ZE [1444:ShellIpcClient] shell_ipc_client.cc:602:operator() Failed to connect to the server: Status::UNAVAILABLE_RESOURCE\n",
      "2022-07-27T13:20:33.957ZE [2332:ShellIpcClient] shell_ipc_client.cc:129:Connect Can't connect to socket at: \\\\.\\Pipe\\GoogleDriveFSPipe_vaibh_shell\n",
      "2022-07-27T13:20:33.957ZE [2332:ShellIpcClient] shell_ipc_client.cc:602:operator() Failed to connect to the server: Status::UNAVAILABLE_RESOURCE\n",
      "2022-07-27T13:20:33.960ZE [1288:ShellIpcClient] shell_ipc_client.cc:129:Connect Can't connect to socket at: \\\\.\\Pipe\\GoogleDriveFSPipe_vaibh_shell\n",
      "2022-07-27T13:20:33.960ZE [1288:ShellIpcClient] shell_ipc_client.cc:602:operator() Failed to connect to the server: Status::UNAVAILABLE_RESOURCE\n",
      "2022-07-27T13:20:33.960ZE [1444:ShellIpcClient] shell_ipc_client.cc:129:Connect Can't connect to socket at: \\\\.\\Pipe\\GoogleDriveFSPipe_vaibh_shell\n",
      "2022-07-27T13:20:33.960ZE [1444:ShellIpcClient] shell_ipc_client.cc:602:operator() Failed to connect to the server: Status::UNAVAILABLE_RESOURCE\n",
      "2022-07-27T13:20:33.960ZE [2332:ShellIpcClient] shell_ipc_client.cc:129:Connect Can't connect to socket at: \\\\.\\Pipe\\GoogleDriveFSPipe_vaibh_shell\n",
      "2022-07-27T13:20:33.960ZE [2332:ShellIpcClient] shell_ipc_client.cc:602:operator() Failed to connect to the server: Status::UNAVAILABLE_RESOURCE\n",
      "2022-07-27T13:20:33.992ZE [1288:ShellIpcClient] shell_ipc_client.cc:129:Connect Can't connect to socket at: \\\\.\\Pipe\\GoogleDriveFSPipe_vaibh_shell\n",
      "2022-07-27T13:20:33.992ZE [1288:ShellIpcClient] shell_ipc_client.cc:602:operator() Failed to connect to the server: Status::UNAVAILABLE_RESOURCE\n",
      "2022-07-27T13:20:33.993ZE [1444:ShellIpcClient] shell_ipc_client.cc:129:Connect Can't connect to socket at: \\\\.\\Pipe\\GoogleDriveFSPipe_vaibh_shell\n",
      "2022-07-27T13:20:33.993ZE [1444:ShellIpcClient] shell_ipc_client.cc:602:operator() Failed to connect to the server: Status::UNAVAILABLE_RESOURCE\n",
      "2022-07-27T13:20:33.993ZE [2332:ShellIpcClient] shell_ipc_client.cc:129:Connect Can't connect to socket at: \\\\.\\Pipe\\GoogleDriveFSPipe_vaibh_shell\n",
      "2022-07-27T13:20:33.993ZE [2332:ShellIpcClient] shell_ipc_client.cc:602:operator() Failed to connect to the server: Status::UNAVAILABLE_RESOURCE\n",
      "2022-07-27T13:20:34.003ZE [1288:ShellIpcClient] shell_ipc_client.cc:129:Connect Can't connect to socket at: \\\\.\\Pipe\\GoogleDriveFSPipe_vaibh_shell\n",
      "2022-07-27T13:20:34.004ZE [1288:ShellIpcClient] shell_ipc_client.cc:602:operator() Failed to connect to the server: Status::UNAVAILABLE_RESOURCE\n",
      "2022-07-27T13:20:34.004ZE [1444:ShellIpcClient] shell_ipc_client.cc:129:Connect Can't connect to socket at: \\\\.\\Pipe\\GoogleDriveFSPipe_vaibh_shell\n",
      "2022-07-27T13:20:34.004ZE [1444:ShellIpcClient] shell_ipc_client.cc:602:operator() Failed to connect to the server: Status::UNAVAILABLE_RESOURCE\n",
      "2022-07-27T13:20:34.004ZE [2332:ShellIpcClient] shell_ipc_client.cc:129:Connect Can't connect to socket at: \\\\.\\Pipe\\GoogleDriveFSPipe_vaibh_shell\n",
      "2022-07-27T13:20:34.004ZE [2332:ShellIpcClient] shell_ipc_client.cc:602:operator() Failed to connect to the server: Status::UNAVAILABLE_RESOURCE\n",
      "2022-07-27T13:20:34.006ZE [1288:ShellIpcClient] shell_ipc_client.cc:129:Connect Can't connect to socket at: \\\\.\\Pipe\\GoogleDriveFSPipe_vaibh_shell\n",
      "2022-07-27T13:20:34.006ZE [1288:ShellIpcClient] shell_ipc_client.cc:602:operator() Failed to connect to the server: Status::UNAVAILABLE_RESOURCE\n",
      "2022-07-27T13:20:34.006ZE [1444:ShellIpcClient] shell_ipc_client.cc:129:Connect Can't connect to socket at: \\\\.\\Pipe\\GoogleDriveFSPipe_vaibh_shell\n",
      "2022-07-27T13:20:34.006ZE [1444:ShellIpcClient] shell_ipc_client.cc:602:operator() Failed to connect to the server: Status::UNAVAILABLE_RESOURCE\n",
      "2022-07-27T13:20:34.006ZE [2332:ShellIpcClient] shell_ipc_client.cc:129:Connect Can't connect to socket at: \\\\.\\Pipe\\GoogleDriveFSPipe_vaibh_shell\n",
      "2022-07-27T13:20:34.006ZE [2332:ShellIpcClient] shell_ipc_client.cc:602:operator() Failed to connect to the server: Status::UNAVAILABLE_RESOURCE\n",
      "2022-07-27T13:20:34.057ZE [1288:ShellIpcClient] shell_ipc_client.cc:129:Connect Can't connect to socket at: \\\\.\\Pipe\\GoogleDriveFSPipe_vaibh_shell\n",
      "2022-07-27T13:20:34.057ZE [1288:ShellIpcClient] shell_ipc_client.cc:602:operator() Failed to connect to the server: Status::UNAVAILABLE_RESOURCE\n",
      "2022-07-27T13:20:34.057ZE [1444:ShellIpcClient] shell_ipc_client.cc:129:Connect Can't connect to socket at: \\\\.\\Pipe\\GoogleDriveFSPipe_vaibh_shell\n",
      "2022-07-27T13:20:34.057ZE [1444:ShellIpcClient] shell_ipc_client.cc:602:operator() Failed to connect to the server: Status::UNAVAILABLE_RESOURCE\n",
      "2022-07-27T13:20:34.057ZE [2332:ShellIpcClient] shell_ipc_client.cc:129:Connect Can't connect to socket at: \\\\.\\Pipe\\GoogleDriveFSPipe_vaibh_shell\n",
      "2022-07-27T13:20:34.057ZE [2332:ShellIpcClient] shell_ipc_client.cc:602:operator() Failed to connect to the server: Status::UNAVAILABLE_RESOURCE\n"
     ]
    }
   ],
   "source": [
    "!cd {LABELIMG_PATH} && python labelImg.py"
   ]
  },
  {
   "cell_type": "code",
   "execution_count": null,
   "metadata": {},
   "outputs": [],
   "source": [
    "# Image collection completed"
   ]
  }
 ],
 "metadata": {
  "kernelspec": {
   "display_name": "tfod",
   "language": "python",
   "name": "tfod"
  },
  "language_info": {
   "codemirror_mode": {
    "name": "ipython",
    "version": 3
   },
   "file_extension": ".py",
   "mimetype": "text/x-python",
   "name": "python",
   "nbconvert_exporter": "python",
   "pygments_lexer": "ipython3",
   "version": "3.7.3"
  }
 },
 "nbformat": 4,
 "nbformat_minor": 2
}
